{
 "cells": [
  {
   "cell_type": "markdown",
   "id": "05e507e0",
   "metadata": {},
   "source": [
    "### This notebook plots predicted vs. experimental ddG values using matplotlib "
   ]
  },
  {
   "cell_type": "code",
   "execution_count": 1,
   "id": "c4c38a48",
   "metadata": {},
   "outputs": [],
   "source": [
    "# Change the paths here, if needed\n",
    "\n",
    "expt_data_file = 'experimental_affinity.csv'\n",
    "calc_data_file = '../tutorial/ddg_to_center.csv'"
   ]
  },
  {
   "cell_type": "code",
   "execution_count": 2,
   "id": "971b927d",
   "metadata": {},
   "outputs": [
    {
     "data": {
      "image/png": "[encoded data removed]",
      "text/plain": [
       "<Figure size 432x288 with 1 Axes>"
      ]
     },
     "metadata": {
      "needs_background": "light"
     },
     "output_type": "display_data"
    }
   ],
   "source": [
    "#!python3\n",
    "#\n",
    "\n",
    "from matplotlib import rcParams\n",
    "rcParams['font.family'] = 'sans-serif'\n",
    "rcParams['font.family'] = 'Arial'\n",
    "rcParams['font.size'] = '12'\n",
    "\n",
    "import numpy as np\n",
    "import pandas as pd\n",
    "import matplotlib.pyplot as plt\n",
    "import scipy.stats\n",
    "\n",
    "def rmse(x1, x2):\n",
    "    return np.sqrt(((x1 - x2) ** 2).mean())\n",
    "\n",
    "expt_data = pd.read_csv(expt_data_file)\n",
    "x_vals = expt_data.sort_values('Name')['dg']\n",
    "x_vals -= x_vals[0]\n",
    "\n",
    "calc_data = pd.read_csv(calc_data_file)\n",
    "y_vals = calc_data.sort_values('Name')['ddg']\n",
    "\n",
    "data_rms = rmse(x_vals, y_vals)\n",
    "\n",
    "#colors = ['#04284C', '#074F94', '#1977D2', '#519AE1', '#A2CCF4']\n",
    "colors = ['#1977D2', '#FFE40D', '#FA0C28']\n",
    "markers = ['.', '+', 'x', '^', 'v', 'd']\n",
    "lims = [-5, 5]\n",
    "nrows = 1\n",
    "ncols = 1\n",
    "\n",
    "points1 = np.array([[lims[0], lims[0]],\n",
    "                    [lims[0], lims[0] + 1],\n",
    "                    [lims[1] - 1, lims[1]],\n",
    "                    [lims[1], lims[1]],\n",
    "                    [lims[1], lims[1] - 1],\n",
    "                    [lims[0] + 1, lims[0]]])\n",
    "points2 = np.array([[lims[0], lims[0]],\n",
    "                    [lims[0], lims[0] + 2],\n",
    "                    [lims[1] - 2, lims[1]],\n",
    "                    [lims[1], lims[1]],\n",
    "                    [lims[1], lims[1] - 2],\n",
    "                    [lims[0] + 2, lims[0]]])\n",
    "    \n",
    "fig, ax = plt.subplots(nrows, ncols)\n",
    "\n",
    "ax.plot(x_vals, y_vals, linestyle='None', marker=markers[3], c=colors[0])\n",
    "\n",
    "# Set labels and ticks\n",
    "ax.set_ylabel('Calculated \\u0394\\u0394G (kcal/mol)')        \n",
    "ax.set_xlabel('Experimental \\u0394\\u0394G (kcal/mol)')\n",
    "\n",
    "ax.set_xlim(lims)\n",
    "ax.set_ylim(lims)\n",
    "\n",
    "# Plot y=x line\n",
    "ax.plot(lims, lims, lw=0.75, c='#000000', zorder=-10, linestyle='dashed')\n",
    "\n",
    "# Plot regions\n",
    "ax.fill(points2[:, 0], points2[:, 1], '#E5E5E5', zorder=-20, edgecolor=None)\n",
    "ax.fill(points1[:, 0], points1[:, 1], '#D0D0D0', zorder=-20, edgecolor=None)\n",
    "\n",
    "# Set legend\n",
    "ax.text(2, -4.3, s='RMSE = {:0.2f} (kcal/mol)'.format(data_rms), fontsize='10')\n",
    "\n",
    "plt.tight_layout()\n",
    "plt.subplots_adjust(hspace=0.0, wspace=0.0)\n",
    "plt.show()\n"
   ]
  }
 ],
 "metadata": {
  "kernelspec": {
   "display_name": "Python 3",
   "language": "python",
   "name": "python3"
  },
  "language_info": {
   "codemirror_mode": {
    "name": "ipython",
    "version": 3
   },
   "file_extension": ".py",
   "mimetype": "text/x-python",
   "name": "python",
   "nbconvert_exporter": "python",
   "pygments_lexer": "ipython3",
   "version": "3.7.6"
  }
 },
 "nbformat": 4,
 "nbformat_minor": 5
}
